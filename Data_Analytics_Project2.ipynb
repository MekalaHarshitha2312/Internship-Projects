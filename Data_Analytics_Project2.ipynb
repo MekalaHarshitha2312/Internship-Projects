{
  "nbformat": 4,
  "nbformat_minor": 0,
  "metadata": {
    "colab": {
      "provenance": [],
      "toc_visible": true,
      "authorship_tag": "ABX9TyPizqtzPrZpKMDRMz8X0ge0",
      "include_colab_link": true
    },
    "kernelspec": {
      "name": "python3",
      "display_name": "Python 3"
    },
    "language_info": {
      "name": "python"
    }
  },
  "cells": [
    {
      "cell_type": "markdown",
      "metadata": {
        "id": "view-in-github",
        "colab_type": "text"
      },
      "source": [
        "<a href=\"https://colab.research.google.com/github/MekalaHarshitha2312/Internship-Projects/blob/main/Data_Analytics_Project2.ipynb\" target=\"_parent\"><img src=\"https://colab.research.google.com/assets/colab-badge.svg\" alt=\"Open In Colab\"/></a>"
      ]
    },
    {
      "cell_type": "code",
      "source": [
        "import pandas as pd\n",
        "import numpy as np\n",
        "import matplotlib.pyplot as plt\n",
        "import seaborn as sns"
      ],
      "metadata": {
        "id": "KZOHlJUiDwWj"
      },
      "execution_count": null,
      "outputs": []
    },
    {
      "cell_type": "code",
      "source": [
        "#Load the dataset\n",
        "train_data = pd.read_csv('train.csv')\n",
        "\n",
        "#Display the first few rows of the dataset\n",
        "print(\"First few rows of the training data:\")\n",
        "print(train_data.head(), '\\n')"
      ],
      "metadata": {
        "colab": {
          "base_uri": "https://localhost:8080/"
        },
        "id": "WiGSuaxHCqPP",
        "outputId": "8ee0c8cb-0a6b-405f-f240-81161eec9678"
      },
      "execution_count": null,
      "outputs": [
        {
          "output_type": "stream",
          "name": "stdout",
          "text": [
            "First few rows of the training data:\n",
            "   PassengerId  Survived  Pclass  \\\n",
            "0            1         0       3   \n",
            "1            2         1       1   \n",
            "2            3         1       3   \n",
            "3            4         1       1   \n",
            "4            5         0       3   \n",
            "\n",
            "                                                Name     Sex   Age  SibSp  \\\n",
            "0                            Braund, Mr. Owen Harris    male  22.0      1   \n",
            "1  Cumings, Mrs. John Bradley (Florence Briggs Th...  female  38.0      1   \n",
            "2                             Heikkinen, Miss. Laina  female  26.0      0   \n",
            "3       Futrelle, Mrs. Jacques Heath (Lily May Peel)  female  35.0      1   \n",
            "4                           Allen, Mr. William Henry    male  35.0      0   \n",
            "\n",
            "   Parch            Ticket     Fare Cabin Embarked  \n",
            "0      0         A/5 21171   7.2500   NaN        S  \n",
            "1      0          PC 17599  71.2833   C85        C  \n",
            "2      0  STON/O2. 3101282   7.9250   NaN        S  \n",
            "3      0            113803  53.1000  C123        S  \n",
            "4      0            373450   8.0500   NaN        S   \n",
            "\n"
          ]
        }
      ]
    },
    {
      "cell_type": "code",
      "source": [
        "#Check for missing values\n",
        "missing_values = train_data.isnull().sum()\n",
        "print(\"Missing values in each column:\")\n",
        "print(missing_values[missing_values > 0], '\\n')"
      ],
      "metadata": {
        "colab": {
          "base_uri": "https://localhost:8080/"
        },
        "id": "1In4KTLQCshp",
        "outputId": "0b02fc79-2b15-43ac-e3e0-ca94c4ac690a"
      },
      "execution_count": null,
      "outputs": [
        {
          "output_type": "stream",
          "name": "stdout",
          "text": [
            "Missing values in each column:\n",
            "Age         177\n",
            "Cabin       687\n",
            "Embarked      2\n",
            "dtype: int64 \n",
            "\n"
          ]
        }
      ]
    },
    {
      "cell_type": "code",
      "source": [
        "#Fill missing Age with the median\n",
        "train_data['Age'] = train_data['Age'].fillna(train_data['Age'].median())\n",
        "\n",
        "#Drop rows with missing Fare values (if any)\n",
        "train_data = train_data.dropna(subset=['Fare'])\n",
        "\n",
        "#Verify missing values after handling\n",
        "print(\"Missing values after handling:\")\n",
        "print(train_data.isnull().sum(), '\\n')"
      ],
      "metadata": {
        "colab": {
          "base_uri": "https://localhost:8080/"
        },
        "id": "_RcObS1sDaTN",
        "outputId": "de3f309e-d638-48d8-88ca-199c91edb888"
      },
      "execution_count": null,
      "outputs": [
        {
          "output_type": "stream",
          "name": "stdout",
          "text": [
            "Missing values after handling:\n",
            "PassengerId      0\n",
            "Survived         0\n",
            "Pclass           0\n",
            "Name             0\n",
            "Sex              0\n",
            "Age              0\n",
            "SibSp            0\n",
            "Parch            0\n",
            "Ticket           0\n",
            "Fare             0\n",
            "Cabin          687\n",
            "Embarked         2\n",
            "dtype: int64 \n",
            "\n"
          ]
        }
      ]
    },
    {
      "cell_type": "code",
      "source": [
        "#Function to detect outliers using IQR\n",
        "def detect_outliers_iqr(data, column):\n",
        "    Q1 = data[column].quantile(0.25)\n",
        "    Q3 = data[column].quantile(0.75)\n",
        "    IQR = Q3 - Q1\n",
        "    lower_bound = Q1 - 1.5 * IQR\n",
        "    upper_bound = Q3 + 1.5 * IQR\n",
        "    return data[(data[column] < lower_bound) | (data[column] > upper_bound)]\n",
        "\n",
        "#Identify outliers for Age and Fare\n",
        "age_outliers = detect_outliers_iqr(train_data, 'Age')\n",
        "fare_outliers = detect_outliers_iqr(train_data, 'Fare')\n",
        "\n",
        "#Print the number of outliers\n",
        "print(f\"Number of outliers in Age: {len(age_outliers)}\")\n",
        "print(f\"Number of outliers in Fare: {len(fare_outliers)}\\n\")\n",
        "\n",
        "#Remove outliers from the dataset\n",
        "train_data = train_data[~train_data['Age'].isin(age_outliers['Age'])]\n",
        "train_data = train_data[~train_data['Fare'].isin(fare_outliers['Fare'])]\n",
        "\n",
        "#Verify the shape of the cleaned dataset\n",
        "print(f\"Shape of dataset after removing outliers: {train_data.shape}\\n\")"
      ],
      "metadata": {
        "colab": {
          "base_uri": "https://localhost:8080/"
        },
        "id": "f0ue7rYmDeyy",
        "outputId": "0d894eae-1c65-442c-db9b-4579b5354667"
      },
      "execution_count": null,
      "outputs": [
        {
          "output_type": "stream",
          "name": "stdout",
          "text": [
            "Number of outliers in Age: 66\n",
            "Number of outliers in Fare: 116\n",
            "\n",
            "Shape of dataset after removing outliers: (721, 12)\n",
            "\n"
          ]
        }
      ]
    },
    {
      "cell_type": "code",
      "source": [
        "#Final check for missing values and outliers\n",
        "print(\"Remaining missing values in each column:\")\n",
        "print(train_data.isnull().sum(), '\\n')\n",
        "\n",
        "remaining_age_outliers = detect_outliers_iqr(train_data, 'Age')\n",
        "remaining_fare_outliers = detect_outliers_iqr(train_data, 'Fare')\n",
        "print(f\"Remaining number of outliers in Age: {len(remaining_age_outliers)}\")\n",
        "print(f\"Remaining number of outliers in Fare: {len(remaining_fare_outliers)}\\n\")"
      ],
      "metadata": {
        "colab": {
          "base_uri": "https://localhost:8080/"
        },
        "id": "2v9tgRypDiHK",
        "outputId": "76a2d233-6605-4c04-a671-6dc5bc816753"
      },
      "execution_count": null,
      "outputs": [
        {
          "output_type": "stream",
          "name": "stdout",
          "text": [
            "Remaining missing values in each column:\n",
            "PassengerId      0\n",
            "Survived         0\n",
            "Pclass           0\n",
            "Name             0\n",
            "Sex              0\n",
            "Age              0\n",
            "SibSp            0\n",
            "Parch            0\n",
            "Ticket           0\n",
            "Fare             0\n",
            "Cabin          623\n",
            "Embarked         0\n",
            "dtype: int64 \n",
            "\n",
            "Remaining number of outliers in Age: 42\n",
            "Remaining number of outliers in Fare: 24\n",
            "\n"
          ]
        }
      ]
    },
    {
      "cell_type": "code",
      "source": [
        "#Calculate Summary Statistics\n",
        "columns_to_analyze = ['Age', 'Fare', 'SibSp', 'Parch']"
      ],
      "metadata": {
        "id": "KTXckt2cDkmK"
      },
      "execution_count": null,
      "outputs": []
    },
    {
      "cell_type": "code",
      "source": [
        "#Initialize a dictionary to store summary statistics\n",
        "summary_statistics = {}"
      ],
      "metadata": {
        "id": "76vWj5wdDnT6"
      },
      "execution_count": null,
      "outputs": []
    },
    {
      "cell_type": "code",
      "source": [
        "#Calculate statistics for each column\n",
        "for column in columns_to_analyze:\n",
        "    if column in train_data.columns:\n",
        "        mean_value = train_data[column].mean()\n",
        "        median_value = train_data[column].median()\n",
        "        mode_value = train_data[column].mode()[0]  #mode() returns a Series\n",
        "        std_dev_value = train_data[column].std()\n",
        "\n",
        "        #Store the statistics in the dictionary\n",
        "        summary_statistics[column] = {\n",
        "            'Mean': mean_value,\n",
        "            'Median': median_value,\n",
        "            'Mode': mode_value,\n",
        "            'Standard Deviation': std_dev_value\n",
        "        }\n",
        "\n",
        "#Display the summary statistics\n",
        "for column, stats in summary_statistics.items():\n",
        "    print(f\"Summary Statistics for {column}:\")\n",
        "    print(f\"Mean: {stats['Mean']}\")\n",
        "    print(f\"Median: {stats['Median']}\")\n",
        "    print(f\"Mode: {stats['Mode']}\")\n",
        "    print(f\"Standard Deviation: {stats['Standard Deviation']}\\n\")"
      ],
      "metadata": {
        "colab": {
          "base_uri": "https://localhost:8080/"
        },
        "id": "owfzBiMCDpNi",
        "outputId": "a6bf1778-5c0a-44a4-ad4a-5992a7619842"
      },
      "execution_count": null,
      "outputs": [
        {
          "output_type": "stream",
          "name": "stdout",
          "text": [
            "Summary Statistics for Age:\n",
            "Mean: 28.094313453536756\n",
            "Median: 28.0\n",
            "Mode: 28.0\n",
            "Standard Deviation: 10.021961072035158\n",
            "\n",
            "Summary Statistics for Fare:\n",
            "Mean: 17.389845492371705\n",
            "Median: 12.275\n",
            "Mode: 8.05\n",
            "Standard Deviation: 13.563036171819876\n",
            "\n",
            "Summary Statistics for SibSp:\n",
            "Mean: 0.4147018030513176\n",
            "Median: 0.0\n",
            "Mode: 0\n",
            "Standard Deviation: 0.8539159476653936\n",
            "\n",
            "Summary Statistics for Parch:\n",
            "Mean: 0.3231622746185853\n",
            "Median: 0.0\n",
            "Mode: 0\n",
            "Standard Deviation: 0.7885492921373876\n",
            "\n"
          ]
        }
      ]
    }
  ]
}