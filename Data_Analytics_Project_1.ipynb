{
  "nbformat": 4,
  "nbformat_minor": 0,
  "metadata": {
    "colab": {
      "provenance": [],
      "authorship_tag": "ABX9TyMnc/CfBiDNjjWbMdr3YYu0",
      "include_colab_link": true
    },
    "kernelspec": {
      "name": "python3",
      "display_name": "Python 3"
    },
    "language_info": {
      "name": "python"
    }
  },
  "cells": [
    {
      "cell_type": "markdown",
      "metadata": {
        "id": "view-in-github",
        "colab_type": "text"
      },
      "source": [
        "<a href=\"https://colab.research.google.com/github/MekalaHarshitha2312/Internship-Projects/blob/main/Data_Analytics_Project_1.ipynb\" target=\"_parent\"><img src=\"https://colab.research.google.com/assets/colab-badge.svg\" alt=\"Open In Colab\"/></a>"
      ]
    },
    {
      "cell_type": "code",
      "execution_count": null,
      "metadata": {
        "id": "WAh_rh7fHPUH"
      },
      "outputs": [],
      "source": [
        "import pandas as pd\n",
        "import numpy as np\n",
        "import matplotlib.pyplot as plt\n",
        "import seaborn as sns"
      ]
    },
    {
      "cell_type": "code",
      "source": [
        "# Load the dataset\n",
        "train_data = pd.read_csv('train.csv')\n",
        "\n",
        "# Display the first few rows of the dataset\n",
        "print(\"First few rows of the training data:\")\n",
        "print(train_data.head(), '\\n')"
      ],
      "metadata": {
        "colab": {
          "base_uri": "https://localhost:8080/"
        },
        "id": "7x_qEPaSHSJ9",
        "outputId": "f4972503-07e2-41d5-e86a-2508655e65a2"
      },
      "execution_count": null,
      "outputs": [
        {
          "output_type": "stream",
          "name": "stdout",
          "text": [
            "First few rows of the training data:\n",
            "   PassengerId  Survived  Pclass  \\\n",
            "0            1         0       3   \n",
            "1            2         1       1   \n",
            "2            3         1       3   \n",
            "3            4         1       1   \n",
            "4            5         0       3   \n",
            "\n",
            "                                                Name     Sex   Age  SibSp  \\\n",
            "0                            Braund, Mr. Owen Harris    male  22.0      1   \n",
            "1  Cumings, Mrs. John Bradley (Florence Briggs Th...  female  38.0      1   \n",
            "2                             Heikkinen, Miss. Laina  female  26.0      0   \n",
            "3       Futrelle, Mrs. Jacques Heath (Lily May Peel)  female  35.0      1   \n",
            "4                           Allen, Mr. William Henry    male  35.0      0   \n",
            "\n",
            "   Parch            Ticket     Fare Cabin Embarked  \n",
            "0      0         A/5 21171   7.2500   NaN        S  \n",
            "1      0          PC 17599  71.2833   C85        C  \n",
            "2      0  STON/O2. 3101282   7.9250   NaN        S  \n",
            "3      0            113803  53.1000  C123        S  \n",
            "4      0            373450   8.0500   NaN        S   \n",
            "\n"
          ]
        }
      ]
    },
    {
      "cell_type": "code",
      "source": [
        "# Check for missing values\n",
        "missing_values = train_data.isnull().sum()\n",
        "print(\"Missing values in each column:\")\n",
        "print(missing_values[missing_values > 0], '\\n')"
      ],
      "metadata": {
        "colab": {
          "base_uri": "https://localhost:8080/"
        },
        "id": "kNIFEpjuHY1u",
        "outputId": "77f5e58a-79f6-441f-8bf3-34b79add86b3"
      },
      "execution_count": null,
      "outputs": [
        {
          "output_type": "stream",
          "name": "stdout",
          "text": [
            "Missing values in each column:\n",
            "Age         177\n",
            "Cabin       687\n",
            "Embarked      2\n",
            "dtype: int64 \n",
            "\n"
          ]
        }
      ]
    },
    {
      "cell_type": "code",
      "source": [
        "# Fill missing Age with the median\n",
        "train_data['Age'] = train_data['Age'].fillna(train_data['Age'].median())\n",
        "\n",
        "# Drop rows with missing Fare values (if any)\n",
        "train_data = train_data.dropna(subset=['Fare'])\n",
        "\n",
        "# Verify missing values after handling\n",
        "print(\"Missing values after handling:\")\n",
        "print(train_data.isnull().sum(), '\\n')\n"
      ],
      "metadata": {
        "colab": {
          "base_uri": "https://localhost:8080/"
        },
        "id": "UeF_3mDNHt_h",
        "outputId": "5cb8e2fb-77c6-465e-bd0e-736f699c6574"
      },
      "execution_count": null,
      "outputs": [
        {
          "output_type": "stream",
          "name": "stdout",
          "text": [
            "Missing values after handling:\n",
            "PassengerId      0\n",
            "Survived         0\n",
            "Pclass           0\n",
            "Name             0\n",
            "Sex              0\n",
            "Age              0\n",
            "SibSp            0\n",
            "Parch            0\n",
            "Ticket           0\n",
            "Fare             0\n",
            "Cabin          687\n",
            "Embarked         2\n",
            "dtype: int64 \n",
            "\n"
          ]
        }
      ]
    },
    {
      "cell_type": "code",
      "source": [
        "# Function to detect outliers using the IQR method\n",
        "def detect_outliers_iqr(data, column):\n",
        "    Q1 = data[column].quantile(0.25)\n",
        "    Q3 = data[column].quantile(0.75)\n",
        "    IQR = Q3 - Q1\n",
        "    lower_bound = Q1 - 1.5 * IQR\n",
        "    upper_bound = Q3 + 1.5 * IQR\n",
        "    return data[(data[column] < lower_bound) | (data[column] > upper_bound)]"
      ],
      "metadata": {
        "id": "AXZhZEuUHw-C"
      },
      "execution_count": null,
      "outputs": []
    },
    {
      "cell_type": "code",
      "source": [
        "\n",
        "# Identify outliers in Age and Fare\n",
        "age_outliers = detect_outliers_iqr(train_data, 'Age')\n",
        "fare_outliers = detect_outliers_iqr(train_data, 'Fare')"
      ],
      "metadata": {
        "id": "08FdqVxAHz2P"
      },
      "execution_count": null,
      "outputs": []
    },
    {
      "cell_type": "code",
      "source": [
        "# Print the number of outliers detected\n",
        "print(f\"Number of outliers in Age: {len(age_outliers)}\")\n",
        "print(f\"Number of outliers in Fare: {len(fare_outliers)}\\n\")"
      ],
      "metadata": {
        "colab": {
          "base_uri": "https://localhost:8080/"
        },
        "id": "5kOOCPUgH3Ip",
        "outputId": "f3f7f893-e142-4a30-b951-e31633b6ce1f"
      },
      "execution_count": null,
      "outputs": [
        {
          "output_type": "stream",
          "name": "stdout",
          "text": [
            "Number of outliers in Age: 66\n",
            "Number of outliers in Fare: 116\n",
            "\n"
          ]
        }
      ]
    },
    {
      "cell_type": "code",
      "source": [
        "# Remove outliers from the dataset\n",
        "train_data = train_data[~train_data['Age'].isin(age_outliers['Age'])]\n",
        "train_data = train_data[~train_data['Fare'].isin(fare_outliers['Fare'])]"
      ],
      "metadata": {
        "id": "iE8LzOaOH581"
      },
      "execution_count": null,
      "outputs": []
    },
    {
      "cell_type": "code",
      "source": [
        "# Verify the shape of the cleaned dataset\n",
        "print(f\"Shape of dataset after removing outliers: {train_data.shape}\\n\")"
      ],
      "metadata": {
        "colab": {
          "base_uri": "https://localhost:8080/"
        },
        "id": "BdLVCWaKH8YU",
        "outputId": "069e6074-058c-4e10-b15a-98dde66cc278"
      },
      "execution_count": null,
      "outputs": [
        {
          "output_type": "stream",
          "name": "stdout",
          "text": [
            "Shape of dataset after removing outliers: (721, 12)\n",
            "\n"
          ]
        }
      ]
    },
    {
      "cell_type": "code",
      "source": [
        "# Check for remaining missing values\n",
        "print(\"Remaining missing values in each column:\")\n",
        "print(train_data.isnull().sum(), '\\n')\n",
        "\n",
        "# Check for outliers again\n",
        "remaining_age_outliers = detect_outliers_iqr(train_data, 'Age')\n",
        "remaining_fare_outliers = detect_outliers_iqr(train_data, 'Fare')\n",
        "\n",
        "print(f\"Remaining number of outliers in Age: {len(remaining_age_outliers)}\")\n",
        "print(f\"Remaining number of outliers in Fare: {len(remaining_fare_outliers)}\\n\")"
      ],
      "metadata": {
        "colab": {
          "base_uri": "https://localhost:8080/"
        },
        "id": "uBDcPE2rH-2g",
        "outputId": "e42a5272-8bb6-4fd1-cb10-60e42db01632"
      },
      "execution_count": null,
      "outputs": [
        {
          "output_type": "stream",
          "name": "stdout",
          "text": [
            "Remaining missing values in each column:\n",
            "PassengerId      0\n",
            "Survived         0\n",
            "Pclass           0\n",
            "Name             0\n",
            "Sex              0\n",
            "Age              0\n",
            "SibSp            0\n",
            "Parch            0\n",
            "Ticket           0\n",
            "Fare             0\n",
            "Cabin          623\n",
            "Embarked         0\n",
            "dtype: int64 \n",
            "\n",
            "Remaining number of outliers in Age: 42\n",
            "Remaining number of outliers in Fare: 24\n",
            "\n"
          ]
        }
      ]
    },
    {
      "cell_type": "code",
      "source": [
        "import pandas as pd\n",
        "\n",
        "# Example of loading and cleaning data\n",
        "raw_train_data = pd.read_csv('gender_submission.csv')\n",
        "cleaned_train_data = raw_train_data.dropna()  # Example cleaning step"
      ],
      "metadata": {
        "id": "oDNCp8HeIBgP"
      },
      "execution_count": null,
      "outputs": []
    },
    {
      "cell_type": "code",
      "source": [
        "print(\"\\nCleaned Training Data:\")\n",
        "print(cleaned_train_data.head())\n"
      ],
      "metadata": {
        "colab": {
          "base_uri": "https://localhost:8080/"
        },
        "id": "7Mn-hITJIEWu",
        "outputId": "6ad23d4e-93c5-4e0b-df4d-72261480ae39"
      },
      "execution_count": null,
      "outputs": [
        {
          "output_type": "stream",
          "name": "stdout",
          "text": [
            "\n",
            "Cleaned Training Data:\n",
            "   PassengerId  Survived\n",
            "0          892         0\n",
            "1          893         1\n",
            "2          894         0\n",
            "3          895         0\n",
            "4          896         1\n"
          ]
        }
      ]
    }
  ]
}